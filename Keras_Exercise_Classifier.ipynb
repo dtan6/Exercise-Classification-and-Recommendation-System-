{
  "cells": [
    {
      "cell_type": "markdown",
      "metadata": {
        "id": "view-in-github",
        "colab_type": "text"
      },
      "source": [
        "<a href=\"https://colab.research.google.com/github/dtan6/Exercise-Classification-and-Recommendation-System-/blob/main/Keras_Exercise_Classifier.ipynb\" target=\"_parent\"><img src=\"https://colab.research.google.com/assets/colab-badge.svg\" alt=\"Open In Colab\"/></a>"
      ]
    },
    {
      "cell_type": "code",
      "execution_count": null,
      "metadata": {
        "id": "PkaCxs7ouYAE",
        "colab": {
          "base_uri": "https://localhost:8080/"
        },
        "outputId": "4a24e601-119d-40d7-cbe0-bea7b59a79f9"
      },
      "outputs": [
        {
          "output_type": "stream",
          "name": "stdout",
          "text": [
            "Mounted at /content/drive\n"
          ]
        }
      ],
      "source": [
        " from google.colab import drive\n",
        "drive.mount('/content/drive')"
      ]
    },
    {
      "cell_type": "code",
      "execution_count": null,
      "metadata": {
        "id": "NUMW-p8vvn-b"
      },
      "outputs": [],
      "source": [
        "import numpy as np\n",
        "import os\n",
        "from PIL import Image\n",
        "import pandas as pd\n",
        "from sklearn.model_selection import train_test_split\n",
        "from keras.applications import ResNet50\n",
        "from keras.models import Sequential\n",
        "from keras.layers import Dense, Flatten\n",
        "from keras.utils import to_categorical\n",
        "from sklearn.ensemble import RandomForestClassifier\n",
        "from sklearn.metrics import accuracy_score"
      ]
    },
    {
      "cell_type": "code",
      "execution_count": null,
      "metadata": {
        "id": "DVY5WO43v7YX"
      },
      "outputs": [],
      "source": [
        "main_folder_path = \"/content/drive/MyDrive/ExerciseImages\"\n",
        "image_arrays = []\n",
        "data_with_label = []\n",
        "temp= []\n",
        "image_size = (224, 224)\n",
        "\n",
        "for i, exercise_folder in enumerate(os.listdir(main_folder_path)):\n",
        "    exercise_folder_path = os.path.join(main_folder_path, exercise_folder)\n",
        "    exercise_files = sorted(os.listdir(exercise_folder_path))\n",
        "\n",
        "    for file in exercise_files:\n",
        "        image = Image.open(os.path.join(exercise_folder_path, file))\n",
        "        image = image.resize(image_size)\n",
        "        image = image.convert(\"RGB\")\n",
        "        image_array = np.array(image)\n",
        "        data_with_label.append([image_array, exercise_folder])\n",
        "        temp.append([image_array, exercise_folder])"
      ]
    },
    {
      "cell_type": "code",
      "source": [
        "unique_labels = set()\n",
        "for _, label in temp:\n",
        "    unique_labels.add(label)\n",
        "\n",
        "print(\"Unique Labels:\", unique_labels)\n",
        "\n",
        "unique_labels1 = set()\n",
        "for _, label in data_with_label:\n",
        "    unique_labels1.add(label)\n",
        "\n",
        "print(\"Unique Labels:\", unique_labels1)\n",
        "\n"
      ],
      "metadata": {
        "colab": {
          "base_uri": "https://localhost:8080/"
        },
        "id": "Ptloj3_jFj5c",
        "outputId": "6c1880c3-33d7-40fb-898a-75cd1bcea3b9"
      },
      "execution_count": null,
      "outputs": [
        {
          "output_type": "stream",
          "name": "stdout",
          "text": [
            "Unique Labels: {'chest fly machine', 'tricep dips', 'lat pulldown', 'bench press', 'incline bench press', 'leg extension', 't bar row', 'leg raises', 'barbell biceps curl', 'tricep pushdown', 'deadlift', 'decline bench press', 'pull up', 'hammer curl', 'plank', 'push up', 'lateral raises', 'hip thrust', 'romanian deadlift', 'russian twist', 'shoulder press', 'squat'}\n",
            "Unique Labels: {'chest fly machine', 'tricep dips', 'lat pulldown', 'bench press', 'incline bench press', 'leg extension', 't bar row', 'leg raises', 'barbell biceps curl', 'tricep pushdown', 'deadlift', 'decline bench press', 'pull up', 'hammer curl', 'plank', 'push up', 'lateral raises', 'hip thrust', 'romanian deadlift', 'russian twist', 'shoulder press', 'squat'}\n"
          ]
        }
      ]
    },
    {
      "cell_type": "code",
      "execution_count": null,
      "metadata": {
        "id": "WUiq3zsplR5r"
      },
      "outputs": [],
      "source": [
        "\n",
        "np.random.shuffle(data_with_label)\n",
        "\n",
        "random_state = 42\n",
        "image_arrays_train, image_arrays_test = train_test_split(data_with_label, test_size=0.2, random_state=random_state)\n",
        "\n",
        "\n"
      ]
    },
    {
      "cell_type": "code",
      "execution_count": null,
      "metadata": {
        "id": "zCPjeaYy95v6"
      },
      "outputs": [],
      "source": [
        "from sklearn.preprocessing import LabelEncoder\n",
        "\n",
        "exercise_names = [exercise_name for _, exercise_name in data_with_label]\n",
        "\n",
        "label_encoder = LabelEncoder()\n",
        "label_encoder.fit(exercise_names)\n",
        "\n",
        "\n",
        "X_train = [image_array for image_array, _ in image_arrays_train]\n",
        "y_train = [exercise_name for _, exercise_name in image_arrays_train]\n",
        "y_train_encoded = label_encoder.transform(y_train)\n",
        "\n",
        "X_train = np.array(X_train)\n",
        "y_train = to_categorical(y_train_encoded)\n",
        "\n",
        "X_test = [image_array for image_array, _ in image_arrays_test]\n",
        "y_test = [exercise_name for _, exercise_name in image_arrays_test]\n",
        "\n",
        "y_test_encoded = label_encoder.transform(y_test)\n",
        "\n",
        "X_test = np.array(X_test)\n",
        "y_test = to_categorical(y_test_encoded)\n",
        "\n",
        "\n",
        "\n",
        "\n"
      ]
    },
    {
      "cell_type": "code",
      "source": [
        "print(y_train[0])\n",
        "print(image_arrays_train[5][1])\n",
        "print(y_train[5])\n",
        "print(y_test[0])\n",
        "print(image_arrays_test[5][1])\n",
        "print(y_test[5])"
      ],
      "metadata": {
        "colab": {
          "base_uri": "https://localhost:8080/"
        },
        "id": "9J0f8CzbRcmT",
        "outputId": "569fc4db-5bc4-4f6f-ac87-dc40d3c0c04a"
      },
      "execution_count": null,
      "outputs": [
        {
          "output_type": "stream",
          "name": "stdout",
          "text": [
            "[0. 0. 0. 0. 0. 0. 0. 0. 0. 0. 0. 0. 0. 0. 0. 0. 0. 0. 1. 0. 0. 0.]\n",
            "incline bench press\n",
            "[0. 0. 0. 0. 0. 0. 0. 1. 0. 0. 0. 0. 0. 0. 0. 0. 0. 0. 0. 0. 0. 0.]\n",
            "[0. 0. 0. 0. 0. 0. 0. 0. 0. 0. 1. 0. 0. 0. 0. 0. 0. 0. 0. 0. 0. 0.]\n",
            "pull up\n",
            "[0. 0. 0. 0. 0. 0. 0. 0. 0. 0. 0. 0. 0. 1. 0. 0. 0. 0. 0. 0. 0. 0.]\n"
          ]
        }
      ]
    },
    {
      "cell_type": "code",
      "execution_count": null,
      "metadata": {
        "id": "kLc2iBNhbLSy",
        "colab": {
          "base_uri": "https://localhost:8080/"
        },
        "outputId": "865dba77-06de-4056-d1fa-6eb222574497"
      },
      "outputs": [
        {
          "output_type": "stream",
          "name": "stdout",
          "text": [
            "Downloading data from https://storage.googleapis.com/tensorflow/keras-applications/resnet/resnet50_weights_tf_dim_ordering_tf_kernels_notop.h5\n",
            "94765736/94765736 [==============================] - 5s 0us/step\n"
          ]
        }
      ],
      "source": [
        "# Resnet50\n",
        "model = Sequential()\n",
        "model.add(ResNet50(include_top=False, pooling='avg', weights='imagenet'))\n",
        "model.add(Dense(len(os.listdir(main_folder_path)), activation='softmax'))\n"
      ]
    },
    {
      "cell_type": "code",
      "execution_count": null,
      "metadata": {
        "colab": {
          "base_uri": "https://localhost:8080/"
        },
        "id": "DpAtyeg8bOdS",
        "outputId": "14239dc7-fab3-4074-8f45-0bdc9c853a80"
      },
      "outputs": [
        {
          "output_type": "stream",
          "name": "stdout",
          "text": [
            "Epoch 1/10\n",
            "347/347 [==============================] - 170s 338ms/step - loss: 0.5298 - accuracy: 0.8609 - val_loss: 1.7252 - val_accuracy: 0.6557\n",
            "Epoch 2/10\n",
            "347/347 [==============================] - 114s 329ms/step - loss: 0.1471 - accuracy: 0.9596 - val_loss: 2.4659 - val_accuracy: 0.4262\n",
            "Epoch 3/10\n",
            "347/347 [==============================] - 117s 337ms/step - loss: 0.1001 - accuracy: 0.9714 - val_loss: 0.3564 - val_accuracy: 0.9022\n",
            "Epoch 4/10\n",
            "347/347 [==============================] - 114s 329ms/step - loss: 0.0542 - accuracy: 0.9838 - val_loss: 1.2162 - val_accuracy: 0.6943\n",
            "Epoch 5/10\n",
            "347/347 [==============================] - 117s 336ms/step - loss: 0.0688 - accuracy: 0.9789 - val_loss: 6.1024 - val_accuracy: 0.3822\n",
            "Epoch 6/10\n",
            "347/347 [==============================] - 117s 336ms/step - loss: 0.0486 - accuracy: 0.9866 - val_loss: 0.5043 - val_accuracy: 0.8625\n",
            "Epoch 7/10\n",
            "347/347 [==============================] - 117s 336ms/step - loss: 0.0305 - accuracy: 0.9915 - val_loss: 1.0109 - val_accuracy: 0.7293\n",
            "Epoch 8/10\n",
            "347/347 [==============================] - 114s 329ms/step - loss: 0.0426 - accuracy: 0.9875 - val_loss: 0.5230 - val_accuracy: 0.8632\n",
            "Epoch 9/10\n",
            "347/347 [==============================] - 114s 329ms/step - loss: 0.0077 - accuracy: 0.9975 - val_loss: 0.2026 - val_accuracy: 0.9531\n",
            "Epoch 10/10\n",
            "347/347 [==============================] - 117s 336ms/step - loss: 0.0178 - accuracy: 0.9958 - val_loss: 0.1412 - val_accuracy: 0.9697\n"
          ]
        },
        {
          "output_type": "execute_result",
          "data": {
            "text/plain": [
              "<keras.callbacks.History at 0x783918243730>"
            ]
          },
          "metadata": {},
          "execution_count": 11
        }
      ],
      "source": [
        "model.compile(optimizer='adam', loss='categorical_crossentropy', metrics=['accuracy'])\n",
        "\n",
        "batch_size = 32\n",
        "epochs = 10\n",
        "\n",
        "model.fit(X_train, y_train, batch_size=batch_size, epochs=epochs, validation_data=(X_test, y_test))"
      ]
    },
    {
      "cell_type": "code",
      "execution_count": null,
      "metadata": {
        "id": "XJvKlcR8Lwli",
        "colab": {
          "base_uri": "https://localhost:8080/"
        },
        "outputId": "69f59fcd-e761-467b-bf55-bf8019946b32"
      },
      "outputs": [
        {
          "output_type": "stream",
          "name": "stdout",
          "text": [
            "87/87 [==============================] - 8s 92ms/step - loss: 0.1412 - accuracy: 0.9697\n",
            "Test loss: 0.1412, Test accuracy: 0.9697\n"
          ]
        }
      ],
      "source": [
        "loss, accuracy = model.evaluate(X_test, y_test)\n",
        "print(f\"Test loss: {loss:.4f}, Test accuracy: {accuracy:.4f}\")"
      ]
    },
    {
      "cell_type": "code",
      "source": [
        "\n",
        "model.save('/content/drive/MyDrive/Saved Models/resnet50final.hdf5')"
      ],
      "metadata": {
        "id": "LKpt-MrpIJkS"
      },
      "execution_count": null,
      "outputs": []
    },
    {
      "cell_type": "code",
      "source": [
        "from keras.models import load_model"
      ],
      "metadata": {
        "id": "w8O-w95-Dlyf"
      },
      "execution_count": null,
      "outputs": []
    },
    {
      "cell_type": "code",
      "source": [
        "from keras.applications import VGG16\n",
        "from keras.optimizers import Adam"
      ],
      "metadata": {
        "id": "4gDZqm6FUX5U"
      },
      "execution_count": null,
      "outputs": []
    },
    {
      "cell_type": "code",
      "source": [
        "# VGG16\n",
        "vgg16_model = VGG16(weights='imagenet', include_top=False, input_shape=(224, 224, 3))\n",
        "\n",
        "model2 = Sequential()\n",
        "model2.add(vgg16_model)\n",
        "\n",
        "model2.add(Flatten())\n",
        "model2.add(Dense(256, activation='relu'))\n",
        "model2.add(Dense(len(os.listdir(main_folder_path)), activation='softmax'))\n",
        "\n",
        "model2.compile(optimizer=Adam(learning_rate=0.001), loss='categorical_crossentropy', metrics=['accuracy'])"
      ],
      "metadata": {
        "id": "v7bWXfpNIVKB",
        "colab": {
          "base_uri": "https://localhost:8080/"
        },
        "outputId": "143a6043-392b-4ed0-ad33-997f0339178c"
      },
      "execution_count": null,
      "outputs": [
        {
          "output_type": "stream",
          "name": "stdout",
          "text": [
            "Downloading data from https://storage.googleapis.com/tensorflow/keras-applications/vgg16/vgg16_weights_tf_dim_ordering_tf_kernels_notop.h5\n",
            "58889256/58889256 [==============================] - 2s 0us/step\n"
          ]
        }
      ]
    },
    {
      "cell_type": "code",
      "source": [
        "\n",
        "batch_size = 32\n",
        "epochs = 10\n",
        "\n",
        "model2.fit(X_train, y_train, batch_size=batch_size, epochs=epochs, validation_data=(X_test, y_test))"
      ],
      "metadata": {
        "colab": {
          "base_uri": "https://localhost:8080/"
        },
        "id": "GHepPQVzJZHL",
        "outputId": "fea4c645-f0f6-4eaa-b76e-52e92f110a8e"
      },
      "execution_count": null,
      "outputs": [
        {
          "output_type": "stream",
          "name": "stdout",
          "text": [
            "Epoch 1/10\n",
            "347/347 [==============================] - 181s 462ms/step - loss: 8.4805 - accuracy: 0.2020 - val_loss: 1.8959 - val_accuracy: 0.4626\n",
            "Epoch 2/10\n",
            "347/347 [==============================] - 158s 455ms/step - loss: 1.3193 - accuracy: 0.6394 - val_loss: 0.8966 - val_accuracy: 0.7708\n",
            "Epoch 3/10\n",
            "347/347 [==============================] - 148s 427ms/step - loss: 0.5551 - accuracy: 0.8672 - val_loss: 0.5516 - val_accuracy: 0.8881\n",
            "Epoch 4/10\n",
            "347/347 [==============================] - 158s 454ms/step - loss: 0.2878 - accuracy: 0.9312 - val_loss: 0.4337 - val_accuracy: 0.9123\n",
            "Epoch 5/10\n",
            "347/347 [==============================] - 158s 455ms/step - loss: 0.1640 - accuracy: 0.9582 - val_loss: 0.4778 - val_accuracy: 0.9307\n",
            "Epoch 6/10\n",
            "347/347 [==============================] - 158s 454ms/step - loss: 0.1358 - accuracy: 0.9632 - val_loss: 0.3668 - val_accuracy: 0.9437\n",
            "Epoch 7/10\n",
            "347/347 [==============================] - 158s 454ms/step - loss: 0.0917 - accuracy: 0.9737 - val_loss: 0.3745 - val_accuracy: 0.9332\n",
            "Epoch 8/10\n",
            "347/347 [==============================] - 157s 454ms/step - loss: 0.1049 - accuracy: 0.9732 - val_loss: 0.3179 - val_accuracy: 0.9524\n",
            "Epoch 9/10\n",
            "347/347 [==============================] - 157s 453ms/step - loss: 0.0949 - accuracy: 0.9740 - val_loss: 0.4598 - val_accuracy: 0.9195\n",
            "Epoch 10/10\n",
            "347/347 [==============================] - 147s 424ms/step - loss: 0.0739 - accuracy: 0.9780 - val_loss: 0.3588 - val_accuracy: 0.9484\n"
          ]
        },
        {
          "output_type": "execute_result",
          "data": {
            "text/plain": [
              "<keras.callbacks.History at 0x7e631336e050>"
            ]
          },
          "metadata": {},
          "execution_count": 13
        }
      ]
    },
    {
      "cell_type": "code",
      "source": [
        "loss, accuracy = model2.evaluate(X_test, y_test)\n",
        "print(f\"Test loss: {loss:.4f}, Test accuracy: {accuracy:.4f}\")"
      ],
      "metadata": {
        "colab": {
          "base_uri": "https://localhost:8080/"
        },
        "id": "jVOzrtWiQdqI",
        "outputId": "8f6e280c-80f9-4624-d17b-90f2d13b45b9"
      },
      "execution_count": null,
      "outputs": [
        {
          "output_type": "stream",
          "name": "stdout",
          "text": [
            "87/87 [==============================] - 10s 118ms/step - loss: 0.3772 - accuracy: 0.9307\n",
            "Test loss: 0.3772, Test accuracy: 0.9307\n"
          ]
        }
      ]
    },
    {
      "cell_type": "code",
      "source": [
        "\n",
        "model2.save('/content/drive/MyDrive/Saved Models/vgg16_final2.hdf5')"
      ],
      "metadata": {
        "id": "y7JytSiyQgty"
      },
      "execution_count": null,
      "outputs": []
    },
    {
      "cell_type": "code",
      "source": [
        "# VGG19\n",
        "from keras.applications import VGG19\n",
        "vgg19_model = VGG19(weights='imagenet', include_top=False, input_shape=(224, 224, 3))\n",
        "\n",
        "model3 = Sequential()\n",
        "model3.add(vgg19_model)\n",
        "\n",
        "model3.add(Flatten())\n",
        "model3.add(Dense(256, activation='relu'))\n",
        "model3.add(Dense(len(os.listdir(main_folder_path)), activation='softmax'))\n",
        "\n",
        "model3.compile(optimizer=Adam(learning_rate=0.001), loss='categorical_crossentropy', metrics=['accuracy'])"
      ],
      "metadata": {
        "id": "Nc8v2JEnSsYX"
      },
      "execution_count": null,
      "outputs": []
    },
    {
      "cell_type": "code",
      "source": [
        "batch_size = 32\n",
        "epochs = 10\n",
        "model3.fit(X_train, y_train, batch_size=batch_size, epochs=epochs, validation_data=(X_test, y_test))"
      ],
      "metadata": {
        "colab": {
          "base_uri": "https://localhost:8080/"
        },
        "id": "voLMZpkoS3gk",
        "outputId": "3b5cd31c-7899-49e5-def7-fc368c6d7012"
      },
      "execution_count": null,
      "outputs": [
        {
          "output_type": "stream",
          "name": "stdout",
          "text": [
            "Epoch 1/10\n",
            "347/347 [==============================] - 202s 521ms/step - loss: 4.3747 - accuracy: 0.1517 - val_loss: 2.2398 - val_accuracy: 0.3414\n",
            "Epoch 2/10\n",
            "347/347 [==============================] - 182s 526ms/step - loss: 1.3872 - accuracy: 0.6160 - val_loss: 0.9572 - val_accuracy: 0.7304\n",
            "Epoch 3/10\n",
            "347/347 [==============================] - 175s 504ms/step - loss: 0.5754 - accuracy: 0.8526 - val_loss: 0.5664 - val_accuracy: 0.8661\n",
            "Epoch 4/10\n",
            "347/347 [==============================] - 182s 525ms/step - loss: 0.3633 - accuracy: 0.9107 - val_loss: 0.4282 - val_accuracy: 0.9040\n",
            "Epoch 5/10\n",
            "347/347 [==============================] - 183s 526ms/step - loss: 0.2658 - accuracy: 0.9286 - val_loss: 0.3737 - val_accuracy: 0.9181\n",
            "Epoch 6/10\n",
            "347/347 [==============================] - 183s 527ms/step - loss: 0.1811 - accuracy: 0.9494 - val_loss: 0.3364 - val_accuracy: 0.9249\n",
            "Epoch 7/10\n",
            "347/347 [==============================] - 183s 526ms/step - loss: 0.1572 - accuracy: 0.9550 - val_loss: 0.3154 - val_accuracy: 0.9379\n",
            "Epoch 8/10\n",
            "347/347 [==============================] - 182s 525ms/step - loss: 0.1569 - accuracy: 0.9544 - val_loss: 0.3130 - val_accuracy: 0.9376\n",
            "Epoch 9/10\n",
            "347/347 [==============================] - 182s 525ms/step - loss: 0.1288 - accuracy: 0.9668 - val_loss: 0.8918 - val_accuracy: 0.8098\n",
            "Epoch 10/10\n",
            "347/347 [==============================] - 182s 524ms/step - loss: 0.2514 - accuracy: 0.9356 - val_loss: 0.3817 - val_accuracy: 0.9260\n"
          ]
        },
        {
          "output_type": "execute_result",
          "data": {
            "text/plain": [
              "<keras.callbacks.History at 0x7f66082da860>"
            ]
          },
          "metadata": {},
          "execution_count": 9
        }
      ]
    },
    {
      "cell_type": "code",
      "source": [
        "loss, accuracy = model3.evaluate(X_test, y_test)\n",
        "print(f\"Test loss: {loss:.4f}, Test accuracy: {accuracy:.4f}\")"
      ],
      "metadata": {
        "colab": {
          "base_uri": "https://localhost:8080/"
        },
        "id": "dCTzwQFxbchP",
        "outputId": "60d6ed28-af34-4d60-e0d5-da9f0c5234e1"
      },
      "execution_count": null,
      "outputs": [
        {
          "output_type": "stream",
          "name": "stdout",
          "text": [
            "87/87 [==============================] - 12s 141ms/step - loss: 0.4703 - accuracy: 0.9491\n",
            "Test loss: 0.4703, Test accuracy: 0.9491\n"
          ]
        }
      ]
    },
    {
      "cell_type": "code",
      "source": [
        "model3.save('/content/drive/MyDrive/Saved Models/vgg19_1_final1.h5')"
      ],
      "metadata": {
        "id": "_l6HVEEaS6wp"
      },
      "execution_count": null,
      "outputs": []
    },
    {
      "cell_type": "code",
      "source": [
        "print(y_train.shape)"
      ],
      "metadata": {
        "colab": {
          "base_uri": "https://localhost:8080/"
        },
        "id": "CJNnNU2JYN4_",
        "outputId": "baba5f1a-5175-42bf-fe2a-3d700c276b8a"
      },
      "execution_count": null,
      "outputs": [
        {
          "output_type": "stream",
          "name": "stdout",
          "text": [
            "(11082, 22)\n"
          ]
        }
      ]
    },
    {
      "cell_type": "code",
      "source": [
        "!nvidia-smi"
      ],
      "metadata": {
        "colab": {
          "base_uri": "https://localhost:8080/"
        },
        "id": "ffW_UdfPG6TU",
        "outputId": "dfeef849-4214-4792-8387-7f26cd6df409"
      },
      "execution_count": null,
      "outputs": [
        {
          "output_type": "stream",
          "name": "stdout",
          "text": [
            "Sat Aug 19 05:24:32 2023       \n",
            "+-----------------------------------------------------------------------------+\n",
            "| NVIDIA-SMI 525.105.17   Driver Version: 525.105.17   CUDA Version: 12.0     |\n",
            "|-------------------------------+----------------------+----------------------+\n",
            "| GPU  Name        Persistence-M| Bus-Id        Disp.A | Volatile Uncorr. ECC |\n",
            "| Fan  Temp  Perf  Pwr:Usage/Cap|         Memory-Usage | GPU-Util  Compute M. |\n",
            "|                               |                      |               MIG M. |\n",
            "|===============================+======================+======================|\n",
            "|   0  NVIDIA A100-SXM...  Off  | 00000000:00:04.0 Off |                    0 |\n",
            "| N/A   31C    P0    44W / 400W |      0MiB / 40960MiB |      0%      Default |\n",
            "|                               |                      |             Disabled |\n",
            "+-------------------------------+----------------------+----------------------+\n",
            "                                                                               \n",
            "+-----------------------------------------------------------------------------+\n",
            "| Processes:                                                                  |\n",
            "|  GPU   GI   CI        PID   Type   Process name                  GPU Memory |\n",
            "|        ID   ID                                                   Usage      |\n",
            "|=============================================================================|\n",
            "|  No running processes found                                                 |\n",
            "+-----------------------------------------------------------------------------+\n"
          ]
        }
      ]
    },
    {
      "cell_type": "code",
      "source": [
        "X_train_flat = X_train.reshape(X_train.shape[0], -1)\n",
        "X_test_flat = X_test.reshape(X_test.shape[0], -1)\n"
      ],
      "metadata": {
        "id": "Y_Zys0hbV1pu"
      },
      "execution_count": null,
      "outputs": []
    },
    {
      "cell_type": "code",
      "source": [
        "rf_model = RandomForestClassifier(n_estimators=100, random_state=42)\n",
        "rf_model.fit(X_train_flat, y_train)"
      ],
      "metadata": {
        "colab": {
          "base_uri": "https://localhost:8080/",
          "height": 75
        },
        "id": "rGUbU8tnUz4T",
        "outputId": "46a8b255-9a4d-4581-f7e0-c00a494ee13d"
      },
      "execution_count": null,
      "outputs": [
        {
          "output_type": "execute_result",
          "data": {
            "text/plain": [
              "RandomForestClassifier(random_state=42)"
            ],
            "text/html": [
              "<style>#sk-container-id-1 {color: black;background-color: white;}#sk-container-id-1 pre{padding: 0;}#sk-container-id-1 div.sk-toggleable {background-color: white;}#sk-container-id-1 label.sk-toggleable__label {cursor: pointer;display: block;width: 100%;margin-bottom: 0;padding: 0.3em;box-sizing: border-box;text-align: center;}#sk-container-id-1 label.sk-toggleable__label-arrow:before {content: \"▸\";float: left;margin-right: 0.25em;color: #696969;}#sk-container-id-1 label.sk-toggleable__label-arrow:hover:before {color: black;}#sk-container-id-1 div.sk-estimator:hover label.sk-toggleable__label-arrow:before {color: black;}#sk-container-id-1 div.sk-toggleable__content {max-height: 0;max-width: 0;overflow: hidden;text-align: left;background-color: #f0f8ff;}#sk-container-id-1 div.sk-toggleable__content pre {margin: 0.2em;color: black;border-radius: 0.25em;background-color: #f0f8ff;}#sk-container-id-1 input.sk-toggleable__control:checked~div.sk-toggleable__content {max-height: 200px;max-width: 100%;overflow: auto;}#sk-container-id-1 input.sk-toggleable__control:checked~label.sk-toggleable__label-arrow:before {content: \"▾\";}#sk-container-id-1 div.sk-estimator input.sk-toggleable__control:checked~label.sk-toggleable__label {background-color: #d4ebff;}#sk-container-id-1 div.sk-label input.sk-toggleable__control:checked~label.sk-toggleable__label {background-color: #d4ebff;}#sk-container-id-1 input.sk-hidden--visually {border: 0;clip: rect(1px 1px 1px 1px);clip: rect(1px, 1px, 1px, 1px);height: 1px;margin: -1px;overflow: hidden;padding: 0;position: absolute;width: 1px;}#sk-container-id-1 div.sk-estimator {font-family: monospace;background-color: #f0f8ff;border: 1px dotted black;border-radius: 0.25em;box-sizing: border-box;margin-bottom: 0.5em;}#sk-container-id-1 div.sk-estimator:hover {background-color: #d4ebff;}#sk-container-id-1 div.sk-parallel-item::after {content: \"\";width: 100%;border-bottom: 1px solid gray;flex-grow: 1;}#sk-container-id-1 div.sk-label:hover label.sk-toggleable__label {background-color: #d4ebff;}#sk-container-id-1 div.sk-serial::before {content: \"\";position: absolute;border-left: 1px solid gray;box-sizing: border-box;top: 0;bottom: 0;left: 50%;z-index: 0;}#sk-container-id-1 div.sk-serial {display: flex;flex-direction: column;align-items: center;background-color: white;padding-right: 0.2em;padding-left: 0.2em;position: relative;}#sk-container-id-1 div.sk-item {position: relative;z-index: 1;}#sk-container-id-1 div.sk-parallel {display: flex;align-items: stretch;justify-content: center;background-color: white;position: relative;}#sk-container-id-1 div.sk-item::before, #sk-container-id-1 div.sk-parallel-item::before {content: \"\";position: absolute;border-left: 1px solid gray;box-sizing: border-box;top: 0;bottom: 0;left: 50%;z-index: -1;}#sk-container-id-1 div.sk-parallel-item {display: flex;flex-direction: column;z-index: 1;position: relative;background-color: white;}#sk-container-id-1 div.sk-parallel-item:first-child::after {align-self: flex-end;width: 50%;}#sk-container-id-1 div.sk-parallel-item:last-child::after {align-self: flex-start;width: 50%;}#sk-container-id-1 div.sk-parallel-item:only-child::after {width: 0;}#sk-container-id-1 div.sk-dashed-wrapped {border: 1px dashed gray;margin: 0 0.4em 0.5em 0.4em;box-sizing: border-box;padding-bottom: 0.4em;background-color: white;}#sk-container-id-1 div.sk-label label {font-family: monospace;font-weight: bold;display: inline-block;line-height: 1.2em;}#sk-container-id-1 div.sk-label-container {text-align: center;}#sk-container-id-1 div.sk-container {/* jupyter's `normalize.less` sets `[hidden] { display: none; }` but bootstrap.min.css set `[hidden] { display: none !important; }` so we also need the `!important` here to be able to override the default hidden behavior on the sphinx rendered scikit-learn.org. See: https://github.com/scikit-learn/scikit-learn/issues/21755 */display: inline-block !important;position: relative;}#sk-container-id-1 div.sk-text-repr-fallback {display: none;}</style><div id=\"sk-container-id-1\" class=\"sk-top-container\"><div class=\"sk-text-repr-fallback\"><pre>RandomForestClassifier(random_state=42)</pre><b>In a Jupyter environment, please rerun this cell to show the HTML representation or trust the notebook. <br />On GitHub, the HTML representation is unable to render, please try loading this page with nbviewer.org.</b></div><div class=\"sk-container\" hidden><div class=\"sk-item\"><div class=\"sk-estimator sk-toggleable\"><input class=\"sk-toggleable__control sk-hidden--visually\" id=\"sk-estimator-id-1\" type=\"checkbox\" checked><label for=\"sk-estimator-id-1\" class=\"sk-toggleable__label sk-toggleable__label-arrow\">RandomForestClassifier</label><div class=\"sk-toggleable__content\"><pre>RandomForestClassifier(random_state=42)</pre></div></div></div></div></div>"
            ]
          },
          "metadata": {},
          "execution_count": 9
        }
      ]
    },
    {
      "cell_type": "code",
      "source": [
        "\n",
        "y_pred = rf_model.predict(X_test_flat)\n",
        "\n",
        "accuracy = accuracy_score(y_test, y_pred)\n",
        "print(\"Accuracy:\", accuracy)"
      ],
      "metadata": {
        "colab": {
          "base_uri": "https://localhost:8080/"
        },
        "id": "wXnavz--ehU4",
        "outputId": "93cfe94f-afb0-45fd-ae90-b5e6e38da5a5"
      },
      "execution_count": null,
      "outputs": [
        {
          "output_type": "stream",
          "name": "stdout",
          "text": [
            "Accuracy: 0.7610970768675568\n"
          ]
        }
      ]
    },
    {
      "cell_type": "code",
      "source": [
        "model_filename = '/content/drive/MyDrive/Saved Models/randomforest1.joblib'\n",
        "joblib.dump(rf_model, model_filename)"
      ],
      "metadata": {
        "colab": {
          "base_uri": "https://localhost:8080/"
        },
        "id": "6FkeDKSVe1rY",
        "outputId": "bd43ae2e-a662-4a46-d167-fb51fd32f3b9"
      },
      "execution_count": null,
      "outputs": [
        {
          "output_type": "execute_result",
          "data": {
            "text/plain": [
              "['/content/drive/MyDrive/Saved Models/randomforest1.joblib']"
            ]
          },
          "metadata": {},
          "execution_count": 12
        }
      ]
    },
    {
      "cell_type": "code",
      "source": [
        "import joblib"
      ],
      "metadata": {
        "id": "x1eyLCuyHT9o"
      },
      "execution_count": null,
      "outputs": []
    },
    {
      "cell_type": "code",
      "source": [
        "\n",
        "vgg16= load_model('/content/drive/MyDrive/Saved Models/vgg16_final2.hdf5')\n",
        "vgg19= load_model('/content/drive/MyDrive/Saved Models/vgg19_1_final1.h5')\n",
        "loaded_rf_model = joblib.load('/content/drive/MyDrive/Saved Models/randomforest1.joblib')\n"
      ],
      "metadata": {
        "id": "skbAdl4NGYEM"
      },
      "execution_count": null,
      "outputs": []
    },
    {
      "cell_type": "code",
      "source": [
        "resnet50= load_model('/content/drive/MyDrive/Saved Models/resnet50final.hdf5')"
      ],
      "metadata": {
        "id": "OzLoBLAyCtDg"
      },
      "execution_count": null,
      "outputs": []
    },
    {
      "cell_type": "code",
      "source": [
        "resnet50_accuracy = resnet50.evaluate(X_test, y_test)[1]\n",
        "\n",
        "resnet50_accuracy_df = pd.DataFrame({'Model': ['ResNet50'], 'Accuracy': [resnet50_accuracy]})\n",
        "\n",
        "print(resnet50_accuracy_df)"
      ],
      "metadata": {
        "colab": {
          "base_uri": "https://localhost:8080/"
        },
        "id": "ow3WOcblGCbe",
        "outputId": "4b380401-90a9-4202-dbdd-a4d164ac63e1"
      },
      "execution_count": null,
      "outputs": [
        {
          "output_type": "stream",
          "name": "stdout",
          "text": [
            "87/87 [==============================] - 17s 96ms/step - loss: 0.0602 - accuracy: 0.9870\n",
            "      Model  Accuracy\n",
            "0  ResNet50  0.987008\n"
          ]
        }
      ]
    },
    {
      "cell_type": "code",
      "source": [
        "vgg16_accuracy = vgg16.evaluate(X_test, y_test)[1]\n",
        "\n",
        "vgg16_accuracy_df = pd.DataFrame({'Model': ['VGG16'], 'Accuracy': [vgg16_accuracy]})\n",
        "\n",
        "print(vgg16_accuracy_df)"
      ],
      "metadata": {
        "colab": {
          "base_uri": "https://localhost:8080/"
        },
        "id": "Wb0TeJx6GIYU",
        "outputId": "910855be-55a2-46cf-ada9-1ead87e75f9e"
      },
      "execution_count": null,
      "outputs": [
        {
          "output_type": "stream",
          "name": "stdout",
          "text": [
            "87/87 [==============================] - 17s 143ms/step - loss: 0.0976 - accuracy: 0.9812\n",
            "   Model  Accuracy\n",
            "0  VGG16  0.981234\n"
          ]
        }
      ]
    },
    {
      "cell_type": "code",
      "source": [
        "vgg19_accuracy = vgg19.evaluate(X_test, y_test)[1]\n",
        "\n",
        "vgg19_accuracy_df = pd.DataFrame({'Model': ['VGG19'], 'Accuracy': [vgg19_accuracy]})\n",
        "\n",
        "print(vgg19_accuracy_df)"
      ],
      "metadata": {
        "colab": {
          "base_uri": "https://localhost:8080/"
        },
        "id": "N9y1S-3bGQlT",
        "outputId": "c026afac-f748-48ff-bf6b-b7b0cb160c4a"
      },
      "execution_count": null,
      "outputs": [
        {
          "output_type": "stream",
          "name": "stdout",
          "text": [
            "87/87 [==============================] - 12s 133ms/step - loss: 0.1782 - accuracy: 0.9574\n",
            "   Model  Accuracy\n",
            "0  VGG19  0.957416\n"
          ]
        }
      ]
    },
    {
      "cell_type": "code",
      "source": [
        "rf_accuracy = accuracy_score(y_test, loaded_rf_model.predict(X_test_flat))\n",
        "\n",
        "rf_accuracy_df = pd.DataFrame({'Model': ['Random Forest'], 'Accuracy': [rf_accuracy]})\n",
        "\n",
        "print(rf_accuracy_df)"
      ],
      "metadata": {
        "colab": {
          "base_uri": "https://localhost:8080/"
        },
        "id": "XUdVrjb2GoZN",
        "outputId": "bb0fbce6-2820-4ad5-a8c1-6a205facab33"
      },
      "execution_count": null,
      "outputs": [
        {
          "output_type": "stream",
          "name": "stdout",
          "text": [
            "           Model  Accuracy\n",
            "0  Random Forest  0.758932\n"
          ]
        }
      ]
    },
    {
      "cell_type": "code",
      "source": [
        "from sklearn.metrics import classification_report\n",
        "\n",
        "resnet50_predictions = resnet50.predict(X_test)\n",
        "resnet50_predictions_single = np.argmax(resnet50_predictions, axis=1)\n",
        "\n",
        "y_true_single = np.argmax(y_test, axis=1)\n",
        "\n",
        "report = classification_report(y_true_single, resnet50_predictions_single, target_names=os.listdir(main_folder_path))\n",
        "\n",
        "print(report)"
      ],
      "metadata": {
        "id": "_ZRfNm28HDh8",
        "outputId": "f4b63f3b-c2b6-4305-e925-fa2f09bbc46e",
        "colab": {
          "base_uri": "https://localhost:8080/"
        }
      },
      "execution_count": null,
      "outputs": [
        {
          "output_type": "stream",
          "name": "stdout",
          "text": [
            "87/87 [==============================] - 9s 89ms/step\n",
            "                     precision    recall  f1-score   support\n",
            "\n",
            "  romanian deadlift       1.00      1.00      1.00       120\n",
            "              squat       0.95      0.98      0.97       128\n",
            "            pull up       1.00      0.99      1.00       114\n",
            "        tricep dips       0.99      0.99      0.99        97\n",
            "            push up       0.99      0.97      0.98       103\n",
            "          t bar row       0.99      0.99      0.99       100\n",
            "     shoulder press       0.99      0.98      0.99       118\n",
            "      russian twist       0.92      0.99      0.95       164\n",
            "    tricep pushdown       1.00      0.99      1.00       126\n",
            "              plank       0.99      0.99      0.99       173\n",
            "        hammer curl       0.99      0.96      0.98       123\n",
            "incline bench press       1.00      0.99      0.99        98\n",
            "decline bench press       0.99      0.99      0.99       195\n",
            "           deadlift       1.00      0.99      1.00       132\n",
            "      leg extension       0.99      0.96      0.97       117\n",
            "     lateral raises       1.00      1.00      1.00       122\n",
            "  chest fly machine       1.00      1.00      1.00       100\n",
            "         leg raises       1.00      0.98      0.99       103\n",
            "         hip thrust       0.97      1.00      0.98       157\n",
            "       lat pulldown       0.99      0.97      0.98       139\n",
            "barbell biceps curl       1.00      0.98      0.99       124\n",
            "        bench press       1.00      1.00      1.00       118\n",
            "\n",
            "           accuracy                           0.99      2771\n",
            "          macro avg       0.99      0.99      0.99      2771\n",
            "       weighted avg       0.99      0.99      0.99      2771\n",
            "\n"
          ]
        }
      ]
    },
    {
      "cell_type": "code",
      "source": [
        "from google.colab import files\n"
      ],
      "metadata": {
        "id": "ttaHr0utjlqC"
      },
      "execution_count": null,
      "outputs": []
    },
    {
      "cell_type": "code",
      "source": [
        "def preprocess_input(image):\n",
        "    image_size = (224, 224)\n",
        "    image = image.resize(image_size)\n",
        "    image = image.convert(\"RGB\")\n",
        "    image_array = np.array(image)\n",
        "    return image_array"
      ],
      "metadata": {
        "id": "q8-XnlZMj9g3"
      },
      "execution_count": null,
      "outputs": []
    },
    {
      "cell_type": "code",
      "source": [
        "\n",
        "print(\"Unique Labels:\", unique_labels)\n",
        "\n",
        "print(\"Unique Labels1:\", unique_labels1)\n",
        "\n"
      ],
      "metadata": {
        "id": "6XTWuuWyDGVV"
      },
      "execution_count": null,
      "outputs": []
    },
    {
      "cell_type": "code",
      "source": [
        "input_images = []\n",
        "num_sets_reps = {}\n",
        "\n",
        "num_exercises = int(input(\"Enter the number of exercises: \"))\n",
        "for _ in range(num_exercises):\n",
        "    uploaded = files.upload()\n",
        "\n",
        "    uploaded_file = list(uploaded.keys())[0]\n",
        "\n",
        "    num_sets = int(input(\"Enter the number of sets: \"))\n",
        "    num_reps = int(input(\"Enter the number of reps: \"))\n",
        "\n",
        "    input_image = Image.open(uploaded_file)\n",
        "    input_image = preprocess_input(input_image)\n",
        "\n",
        "    prediction = resnet50.predict(np.expand_dims(input_image, axis=0))\n",
        "    exercise_names = ['barbell biceps curl','bench press','chest fly machine','deadlift','decline bench press','hammer curl','hip thrust','incline bench press','lat pulldown','lateral raise','leg extension','leg raise','plank','pull up','push up','romanian deadlift','russian twist','shoulder press','squat','t bar row','tricep dip','tricep pushdown']\n",
        "\n",
        "    predicted_exercise_name = exercise_names[np.argmax(prediction)]\n",
        "\n",
        "    input_images.append(input_image)\n",
        "    if predicted_exercise_name in num_sets_reps:\n",
        "      existing_tuple = num_sets_reps[predicted_exercise_name]\n",
        "      new_num_sets = existing_tuple[0] + num_sets\n",
        "      new_num_reps = existing_tuple[1] + num_reps\n",
        "      num_sets_reps[predicted_exercise_name] = (new_num_sets, new_num_reps)\n",
        "    else:\n",
        "      num_sets_reps[predicted_exercise_name] = (num_sets, num_reps)\n",
        "\n",
        "print(num_sets_reps)\n"
      ],
      "metadata": {
        "colab": {
          "base_uri": "https://localhost:8080/",
          "height": 375
        },
        "id": "kZHnw0k7Gebz",
        "outputId": "413496ce-a010-4a53-86b0-35266768425d"
      },
      "execution_count": null,
      "outputs": [
        {
          "name": "stdout",
          "output_type": "stream",
          "text": [
            "Enter the number of exercises: 3\n"
          ]
        },
        {
          "output_type": "display_data",
          "data": {
            "text/plain": [
              "<IPython.core.display.HTML object>"
            ],
            "text/html": [
              "\n",
              "     <input type=\"file\" id=\"files-0ef7f23c-0d16-4d4b-ac61-95f55390e357\" name=\"files[]\" multiple disabled\n",
              "        style=\"border:none\" />\n",
              "     <output id=\"result-0ef7f23c-0d16-4d4b-ac61-95f55390e357\">\n",
              "      Upload widget is only available when the cell has been executed in the\n",
              "      current browser session. Please rerun this cell to enable.\n",
              "      </output>\n",
              "      <script>// Copyright 2017 Google LLC\n",
              "//\n",
              "// Licensed under the Apache License, Version 2.0 (the \"License\");\n",
              "// you may not use this file except in compliance with the License.\n",
              "// You may obtain a copy of the License at\n",
              "//\n",
              "//      http://www.apache.org/licenses/LICENSE-2.0\n",
              "//\n",
              "// Unless required by applicable law or agreed to in writing, software\n",
              "// distributed under the License is distributed on an \"AS IS\" BASIS,\n",
              "// WITHOUT WARRANTIES OR CONDITIONS OF ANY KIND, either express or implied.\n",
              "// See the License for the specific language governing permissions and\n",
              "// limitations under the License.\n",
              "\n",
              "/**\n",
              " * @fileoverview Helpers for google.colab Python module.\n",
              " */\n",
              "(function(scope) {\n",
              "function span(text, styleAttributes = {}) {\n",
              "  const element = document.createElement('span');\n",
              "  element.textContent = text;\n",
              "  for (const key of Object.keys(styleAttributes)) {\n",
              "    element.style[key] = styleAttributes[key];\n",
              "  }\n",
              "  return element;\n",
              "}\n",
              "\n",
              "// Max number of bytes which will be uploaded at a time.\n",
              "const MAX_PAYLOAD_SIZE = 100 * 1024;\n",
              "\n",
              "function _uploadFiles(inputId, outputId) {\n",
              "  const steps = uploadFilesStep(inputId, outputId);\n",
              "  const outputElement = document.getElementById(outputId);\n",
              "  // Cache steps on the outputElement to make it available for the next call\n",
              "  // to uploadFilesContinue from Python.\n",
              "  outputElement.steps = steps;\n",
              "\n",
              "  return _uploadFilesContinue(outputId);\n",
              "}\n",
              "\n",
              "// This is roughly an async generator (not supported in the browser yet),\n",
              "// where there are multiple asynchronous steps and the Python side is going\n",
              "// to poll for completion of each step.\n",
              "// This uses a Promise to block the python side on completion of each step,\n",
              "// then passes the result of the previous step as the input to the next step.\n",
              "function _uploadFilesContinue(outputId) {\n",
              "  const outputElement = document.getElementById(outputId);\n",
              "  const steps = outputElement.steps;\n",
              "\n",
              "  const next = steps.next(outputElement.lastPromiseValue);\n",
              "  return Promise.resolve(next.value.promise).then((value) => {\n",
              "    // Cache the last promise value to make it available to the next\n",
              "    // step of the generator.\n",
              "    outputElement.lastPromiseValue = value;\n",
              "    return next.value.response;\n",
              "  });\n",
              "}\n",
              "\n",
              "/**\n",
              " * Generator function which is called between each async step of the upload\n",
              " * process.\n",
              " * @param {string} inputId Element ID of the input file picker element.\n",
              " * @param {string} outputId Element ID of the output display.\n",
              " * @return {!Iterable<!Object>} Iterable of next steps.\n",
              " */\n",
              "function* uploadFilesStep(inputId, outputId) {\n",
              "  const inputElement = document.getElementById(inputId);\n",
              "  inputElement.disabled = false;\n",
              "\n",
              "  const outputElement = document.getElementById(outputId);\n",
              "  outputElement.innerHTML = '';\n",
              "\n",
              "  const pickedPromise = new Promise((resolve) => {\n",
              "    inputElement.addEventListener('change', (e) => {\n",
              "      resolve(e.target.files);\n",
              "    });\n",
              "  });\n",
              "\n",
              "  const cancel = document.createElement('button');\n",
              "  inputElement.parentElement.appendChild(cancel);\n",
              "  cancel.textContent = 'Cancel upload';\n",
              "  const cancelPromise = new Promise((resolve) => {\n",
              "    cancel.onclick = () => {\n",
              "      resolve(null);\n",
              "    };\n",
              "  });\n",
              "\n",
              "  // Wait for the user to pick the files.\n",
              "  const files = yield {\n",
              "    promise: Promise.race([pickedPromise, cancelPromise]),\n",
              "    response: {\n",
              "      action: 'starting',\n",
              "    }\n",
              "  };\n",
              "\n",
              "  cancel.remove();\n",
              "\n",
              "  // Disable the input element since further picks are not allowed.\n",
              "  inputElement.disabled = true;\n",
              "\n",
              "  if (!files) {\n",
              "    return {\n",
              "      response: {\n",
              "        action: 'complete',\n",
              "      }\n",
              "    };\n",
              "  }\n",
              "\n",
              "  for (const file of files) {\n",
              "    const li = document.createElement('li');\n",
              "    li.append(span(file.name, {fontWeight: 'bold'}));\n",
              "    li.append(span(\n",
              "        `(${file.type || 'n/a'}) - ${file.size} bytes, ` +\n",
              "        `last modified: ${\n",
              "            file.lastModifiedDate ? file.lastModifiedDate.toLocaleDateString() :\n",
              "                                    'n/a'} - `));\n",
              "    const percent = span('0% done');\n",
              "    li.appendChild(percent);\n",
              "\n",
              "    outputElement.appendChild(li);\n",
              "\n",
              "    const fileDataPromise = new Promise((resolve) => {\n",
              "      const reader = new FileReader();\n",
              "      reader.onload = (e) => {\n",
              "        resolve(e.target.result);\n",
              "      };\n",
              "      reader.readAsArrayBuffer(file);\n",
              "    });\n",
              "    // Wait for the data to be ready.\n",
              "    let fileData = yield {\n",
              "      promise: fileDataPromise,\n",
              "      response: {\n",
              "        action: 'continue',\n",
              "      }\n",
              "    };\n",
              "\n",
              "    // Use a chunked sending to avoid message size limits. See b/62115660.\n",
              "    let position = 0;\n",
              "    do {\n",
              "      const length = Math.min(fileData.byteLength - position, MAX_PAYLOAD_SIZE);\n",
              "      const chunk = new Uint8Array(fileData, position, length);\n",
              "      position += length;\n",
              "\n",
              "      const base64 = btoa(String.fromCharCode.apply(null, chunk));\n",
              "      yield {\n",
              "        response: {\n",
              "          action: 'append',\n",
              "          file: file.name,\n",
              "          data: base64,\n",
              "        },\n",
              "      };\n",
              "\n",
              "      let percentDone = fileData.byteLength === 0 ?\n",
              "          100 :\n",
              "          Math.round((position / fileData.byteLength) * 100);\n",
              "      percent.textContent = `${percentDone}% done`;\n",
              "\n",
              "    } while (position < fileData.byteLength);\n",
              "  }\n",
              "\n",
              "  // All done.\n",
              "  yield {\n",
              "    response: {\n",
              "      action: 'complete',\n",
              "    }\n",
              "  };\n",
              "}\n",
              "\n",
              "scope.google = scope.google || {};\n",
              "scope.google.colab = scope.google.colab || {};\n",
              "scope.google.colab._files = {\n",
              "  _uploadFiles,\n",
              "  _uploadFilesContinue,\n",
              "};\n",
              "})(self);\n",
              "</script> "
            ]
          },
          "metadata": {}
        },
        {
          "output_type": "stream",
          "name": "stdout",
          "text": [
            "Saving pullup1.jpg to pullup1.jpg\n",
            "Enter the number of sets: 1\n",
            "Enter the number of reps: 10\n",
            "1/1 [==============================] - 0s 23ms/step\n"
          ]
        },
        {
          "output_type": "display_data",
          "data": {
            "text/plain": [
              "<IPython.core.display.HTML object>"
            ],
            "text/html": [
              "\n",
              "     <input type=\"file\" id=\"files-bbf7119c-8de0-4949-815f-1859927b2316\" name=\"files[]\" multiple disabled\n",
              "        style=\"border:none\" />\n",
              "     <output id=\"result-bbf7119c-8de0-4949-815f-1859927b2316\">\n",
              "      Upload widget is only available when the cell has been executed in the\n",
              "      current browser session. Please rerun this cell to enable.\n",
              "      </output>\n",
              "      <script>// Copyright 2017 Google LLC\n",
              "//\n",
              "// Licensed under the Apache License, Version 2.0 (the \"License\");\n",
              "// you may not use this file except in compliance with the License.\n",
              "// You may obtain a copy of the License at\n",
              "//\n",
              "//      http://www.apache.org/licenses/LICENSE-2.0\n",
              "//\n",
              "// Unless required by applicable law or agreed to in writing, software\n",
              "// distributed under the License is distributed on an \"AS IS\" BASIS,\n",
              "// WITHOUT WARRANTIES OR CONDITIONS OF ANY KIND, either express or implied.\n",
              "// See the License for the specific language governing permissions and\n",
              "// limitations under the License.\n",
              "\n",
              "/**\n",
              " * @fileoverview Helpers for google.colab Python module.\n",
              " */\n",
              "(function(scope) {\n",
              "function span(text, styleAttributes = {}) {\n",
              "  const element = document.createElement('span');\n",
              "  element.textContent = text;\n",
              "  for (const key of Object.keys(styleAttributes)) {\n",
              "    element.style[key] = styleAttributes[key];\n",
              "  }\n",
              "  return element;\n",
              "}\n",
              "\n",
              "// Max number of bytes which will be uploaded at a time.\n",
              "const MAX_PAYLOAD_SIZE = 100 * 1024;\n",
              "\n",
              "function _uploadFiles(inputId, outputId) {\n",
              "  const steps = uploadFilesStep(inputId, outputId);\n",
              "  const outputElement = document.getElementById(outputId);\n",
              "  // Cache steps on the outputElement to make it available for the next call\n",
              "  // to uploadFilesContinue from Python.\n",
              "  outputElement.steps = steps;\n",
              "\n",
              "  return _uploadFilesContinue(outputId);\n",
              "}\n",
              "\n",
              "// This is roughly an async generator (not supported in the browser yet),\n",
              "// where there are multiple asynchronous steps and the Python side is going\n",
              "// to poll for completion of each step.\n",
              "// This uses a Promise to block the python side on completion of each step,\n",
              "// then passes the result of the previous step as the input to the next step.\n",
              "function _uploadFilesContinue(outputId) {\n",
              "  const outputElement = document.getElementById(outputId);\n",
              "  const steps = outputElement.steps;\n",
              "\n",
              "  const next = steps.next(outputElement.lastPromiseValue);\n",
              "  return Promise.resolve(next.value.promise).then((value) => {\n",
              "    // Cache the last promise value to make it available to the next\n",
              "    // step of the generator.\n",
              "    outputElement.lastPromiseValue = value;\n",
              "    return next.value.response;\n",
              "  });\n",
              "}\n",
              "\n",
              "/**\n",
              " * Generator function which is called between each async step of the upload\n",
              " * process.\n",
              " * @param {string} inputId Element ID of the input file picker element.\n",
              " * @param {string} outputId Element ID of the output display.\n",
              " * @return {!Iterable<!Object>} Iterable of next steps.\n",
              " */\n",
              "function* uploadFilesStep(inputId, outputId) {\n",
              "  const inputElement = document.getElementById(inputId);\n",
              "  inputElement.disabled = false;\n",
              "\n",
              "  const outputElement = document.getElementById(outputId);\n",
              "  outputElement.innerHTML = '';\n",
              "\n",
              "  const pickedPromise = new Promise((resolve) => {\n",
              "    inputElement.addEventListener('change', (e) => {\n",
              "      resolve(e.target.files);\n",
              "    });\n",
              "  });\n",
              "\n",
              "  const cancel = document.createElement('button');\n",
              "  inputElement.parentElement.appendChild(cancel);\n",
              "  cancel.textContent = 'Cancel upload';\n",
              "  const cancelPromise = new Promise((resolve) => {\n",
              "    cancel.onclick = () => {\n",
              "      resolve(null);\n",
              "    };\n",
              "  });\n",
              "\n",
              "  // Wait for the user to pick the files.\n",
              "  const files = yield {\n",
              "    promise: Promise.race([pickedPromise, cancelPromise]),\n",
              "    response: {\n",
              "      action: 'starting',\n",
              "    }\n",
              "  };\n",
              "\n",
              "  cancel.remove();\n",
              "\n",
              "  // Disable the input element since further picks are not allowed.\n",
              "  inputElement.disabled = true;\n",
              "\n",
              "  if (!files) {\n",
              "    return {\n",
              "      response: {\n",
              "        action: 'complete',\n",
              "      }\n",
              "    };\n",
              "  }\n",
              "\n",
              "  for (const file of files) {\n",
              "    const li = document.createElement('li');\n",
              "    li.append(span(file.name, {fontWeight: 'bold'}));\n",
              "    li.append(span(\n",
              "        `(${file.type || 'n/a'}) - ${file.size} bytes, ` +\n",
              "        `last modified: ${\n",
              "            file.lastModifiedDate ? file.lastModifiedDate.toLocaleDateString() :\n",
              "                                    'n/a'} - `));\n",
              "    const percent = span('0% done');\n",
              "    li.appendChild(percent);\n",
              "\n",
              "    outputElement.appendChild(li);\n",
              "\n",
              "    const fileDataPromise = new Promise((resolve) => {\n",
              "      const reader = new FileReader();\n",
              "      reader.onload = (e) => {\n",
              "        resolve(e.target.result);\n",
              "      };\n",
              "      reader.readAsArrayBuffer(file);\n",
              "    });\n",
              "    // Wait for the data to be ready.\n",
              "    let fileData = yield {\n",
              "      promise: fileDataPromise,\n",
              "      response: {\n",
              "        action: 'continue',\n",
              "      }\n",
              "    };\n",
              "\n",
              "    // Use a chunked sending to avoid message size limits. See b/62115660.\n",
              "    let position = 0;\n",
              "    do {\n",
              "      const length = Math.min(fileData.byteLength - position, MAX_PAYLOAD_SIZE);\n",
              "      const chunk = new Uint8Array(fileData, position, length);\n",
              "      position += length;\n",
              "\n",
              "      const base64 = btoa(String.fromCharCode.apply(null, chunk));\n",
              "      yield {\n",
              "        response: {\n",
              "          action: 'append',\n",
              "          file: file.name,\n",
              "          data: base64,\n",
              "        },\n",
              "      };\n",
              "\n",
              "      let percentDone = fileData.byteLength === 0 ?\n",
              "          100 :\n",
              "          Math.round((position / fileData.byteLength) * 100);\n",
              "      percent.textContent = `${percentDone}% done`;\n",
              "\n",
              "    } while (position < fileData.byteLength);\n",
              "  }\n",
              "\n",
              "  // All done.\n",
              "  yield {\n",
              "    response: {\n",
              "      action: 'complete',\n",
              "    }\n",
              "  };\n",
              "}\n",
              "\n",
              "scope.google = scope.google || {};\n",
              "scope.google.colab = scope.google.colab || {};\n",
              "scope.google.colab._files = {\n",
              "  _uploadFiles,\n",
              "  _uploadFilesContinue,\n",
              "};\n",
              "})(self);\n",
              "</script> "
            ]
          },
          "metadata": {}
        },
        {
          "output_type": "stream",
          "name": "stdout",
          "text": [
            "Saving pullup2.jpg to pullup2.jpg\n",
            "Enter the number of sets: 1\n",
            "Enter the number of reps: 10\n",
            "1/1 [==============================] - 0s 26ms/step\n"
          ]
        },
        {
          "output_type": "display_data",
          "data": {
            "text/plain": [
              "<IPython.core.display.HTML object>"
            ],
            "text/html": [
              "\n",
              "     <input type=\"file\" id=\"files-0138fefb-5793-4e40-ae79-c6de3e44aacf\" name=\"files[]\" multiple disabled\n",
              "        style=\"border:none\" />\n",
              "     <output id=\"result-0138fefb-5793-4e40-ae79-c6de3e44aacf\">\n",
              "      Upload widget is only available when the cell has been executed in the\n",
              "      current browser session. Please rerun this cell to enable.\n",
              "      </output>\n",
              "      <script>// Copyright 2017 Google LLC\n",
              "//\n",
              "// Licensed under the Apache License, Version 2.0 (the \"License\");\n",
              "// you may not use this file except in compliance with the License.\n",
              "// You may obtain a copy of the License at\n",
              "//\n",
              "//      http://www.apache.org/licenses/LICENSE-2.0\n",
              "//\n",
              "// Unless required by applicable law or agreed to in writing, software\n",
              "// distributed under the License is distributed on an \"AS IS\" BASIS,\n",
              "// WITHOUT WARRANTIES OR CONDITIONS OF ANY KIND, either express or implied.\n",
              "// See the License for the specific language governing permissions and\n",
              "// limitations under the License.\n",
              "\n",
              "/**\n",
              " * @fileoverview Helpers for google.colab Python module.\n",
              " */\n",
              "(function(scope) {\n",
              "function span(text, styleAttributes = {}) {\n",
              "  const element = document.createElement('span');\n",
              "  element.textContent = text;\n",
              "  for (const key of Object.keys(styleAttributes)) {\n",
              "    element.style[key] = styleAttributes[key];\n",
              "  }\n",
              "  return element;\n",
              "}\n",
              "\n",
              "// Max number of bytes which will be uploaded at a time.\n",
              "const MAX_PAYLOAD_SIZE = 100 * 1024;\n",
              "\n",
              "function _uploadFiles(inputId, outputId) {\n",
              "  const steps = uploadFilesStep(inputId, outputId);\n",
              "  const outputElement = document.getElementById(outputId);\n",
              "  // Cache steps on the outputElement to make it available for the next call\n",
              "  // to uploadFilesContinue from Python.\n",
              "  outputElement.steps = steps;\n",
              "\n",
              "  return _uploadFilesContinue(outputId);\n",
              "}\n",
              "\n",
              "// This is roughly an async generator (not supported in the browser yet),\n",
              "// where there are multiple asynchronous steps and the Python side is going\n",
              "// to poll for completion of each step.\n",
              "// This uses a Promise to block the python side on completion of each step,\n",
              "// then passes the result of the previous step as the input to the next step.\n",
              "function _uploadFilesContinue(outputId) {\n",
              "  const outputElement = document.getElementById(outputId);\n",
              "  const steps = outputElement.steps;\n",
              "\n",
              "  const next = steps.next(outputElement.lastPromiseValue);\n",
              "  return Promise.resolve(next.value.promise).then((value) => {\n",
              "    // Cache the last promise value to make it available to the next\n",
              "    // step of the generator.\n",
              "    outputElement.lastPromiseValue = value;\n",
              "    return next.value.response;\n",
              "  });\n",
              "}\n",
              "\n",
              "/**\n",
              " * Generator function which is called between each async step of the upload\n",
              " * process.\n",
              " * @param {string} inputId Element ID of the input file picker element.\n",
              " * @param {string} outputId Element ID of the output display.\n",
              " * @return {!Iterable<!Object>} Iterable of next steps.\n",
              " */\n",
              "function* uploadFilesStep(inputId, outputId) {\n",
              "  const inputElement = document.getElementById(inputId);\n",
              "  inputElement.disabled = false;\n",
              "\n",
              "  const outputElement = document.getElementById(outputId);\n",
              "  outputElement.innerHTML = '';\n",
              "\n",
              "  const pickedPromise = new Promise((resolve) => {\n",
              "    inputElement.addEventListener('change', (e) => {\n",
              "      resolve(e.target.files);\n",
              "    });\n",
              "  });\n",
              "\n",
              "  const cancel = document.createElement('button');\n",
              "  inputElement.parentElement.appendChild(cancel);\n",
              "  cancel.textContent = 'Cancel upload';\n",
              "  const cancelPromise = new Promise((resolve) => {\n",
              "    cancel.onclick = () => {\n",
              "      resolve(null);\n",
              "    };\n",
              "  });\n",
              "\n",
              "  // Wait for the user to pick the files.\n",
              "  const files = yield {\n",
              "    promise: Promise.race([pickedPromise, cancelPromise]),\n",
              "    response: {\n",
              "      action: 'starting',\n",
              "    }\n",
              "  };\n",
              "\n",
              "  cancel.remove();\n",
              "\n",
              "  // Disable the input element since further picks are not allowed.\n",
              "  inputElement.disabled = true;\n",
              "\n",
              "  if (!files) {\n",
              "    return {\n",
              "      response: {\n",
              "        action: 'complete',\n",
              "      }\n",
              "    };\n",
              "  }\n",
              "\n",
              "  for (const file of files) {\n",
              "    const li = document.createElement('li');\n",
              "    li.append(span(file.name, {fontWeight: 'bold'}));\n",
              "    li.append(span(\n",
              "        `(${file.type || 'n/a'}) - ${file.size} bytes, ` +\n",
              "        `last modified: ${\n",
              "            file.lastModifiedDate ? file.lastModifiedDate.toLocaleDateString() :\n",
              "                                    'n/a'} - `));\n",
              "    const percent = span('0% done');\n",
              "    li.appendChild(percent);\n",
              "\n",
              "    outputElement.appendChild(li);\n",
              "\n",
              "    const fileDataPromise = new Promise((resolve) => {\n",
              "      const reader = new FileReader();\n",
              "      reader.onload = (e) => {\n",
              "        resolve(e.target.result);\n",
              "      };\n",
              "      reader.readAsArrayBuffer(file);\n",
              "    });\n",
              "    // Wait for the data to be ready.\n",
              "    let fileData = yield {\n",
              "      promise: fileDataPromise,\n",
              "      response: {\n",
              "        action: 'continue',\n",
              "      }\n",
              "    };\n",
              "\n",
              "    // Use a chunked sending to avoid message size limits. See b/62115660.\n",
              "    let position = 0;\n",
              "    do {\n",
              "      const length = Math.min(fileData.byteLength - position, MAX_PAYLOAD_SIZE);\n",
              "      const chunk = new Uint8Array(fileData, position, length);\n",
              "      position += length;\n",
              "\n",
              "      const base64 = btoa(String.fromCharCode.apply(null, chunk));\n",
              "      yield {\n",
              "        response: {\n",
              "          action: 'append',\n",
              "          file: file.name,\n",
              "          data: base64,\n",
              "        },\n",
              "      };\n",
              "\n",
              "      let percentDone = fileData.byteLength === 0 ?\n",
              "          100 :\n",
              "          Math.round((position / fileData.byteLength) * 100);\n",
              "      percent.textContent = `${percentDone}% done`;\n",
              "\n",
              "    } while (position < fileData.byteLength);\n",
              "  }\n",
              "\n",
              "  // All done.\n",
              "  yield {\n",
              "    response: {\n",
              "      action: 'complete',\n",
              "    }\n",
              "  };\n",
              "}\n",
              "\n",
              "scope.google = scope.google || {};\n",
              "scope.google.colab = scope.google.colab || {};\n",
              "scope.google.colab._files = {\n",
              "  _uploadFiles,\n",
              "  _uploadFilesContinue,\n",
              "};\n",
              "})(self);\n",
              "</script> "
            ]
          },
          "metadata": {}
        },
        {
          "output_type": "stream",
          "name": "stdout",
          "text": [
            "Saving pullup3.jpg to pullup3.jpg\n",
            "Enter the number of sets: 1\n",
            "Enter the number of reps: 10\n",
            "1/1 [==============================] - 0s 22ms/step\n",
            "{'shoulder press': (1, 10), 'incline bench press': (1, 10), 'pull up': (1, 10)}\n"
          ]
        }
      ]
    },
    {
      "cell_type": "code",
      "source": [
        "num_sets_reps"
      ],
      "metadata": {
        "colab": {
          "base_uri": "https://localhost:8080/"
        },
        "id": "f3sDLbXB6F6-",
        "outputId": "e46dd911-38b8-4ff5-8e3e-c2639ab4b6a4"
      },
      "execution_count": null,
      "outputs": [
        {
          "output_type": "execute_result",
          "data": {
            "text/plain": [
              "{'deadlift': (3, 10), 'pull up': (3, 10), 'tricep dip': (3, 10)}"
            ]
          },
          "metadata": {},
          "execution_count": 13
        }
      ]
    },
    {
      "cell_type": "code",
      "source": [
        "exercise_muscle_groups = {\n",
        "    \"barbell biceps curl\": [\"biceps\", \"forearms\"],\n",
        "    \"bench press\": [\"chest\", \"triceps\",\"shoulders\"],\n",
        "    \"chest fly machine\": [\"chest\", \"back\",\"shoulders\"],\n",
        "    \"deadlift\": [\"core\", \"back\",\"hamstrings\",\"forearms\"],\n",
        "    \"decline bench press\": [\"chest\"],\n",
        "    \"hammer curl\": [\"biceps\", \"forearms\"],\n",
        "    \"hip thrust\": [\"hamstrings\"],\n",
        "    \"incline bench press\": [\"chest\"],\n",
        "    \"lat pulldown\": [\"biceps\", \"back\"],\n",
        "    \"lateral raise\": [\"back\", \"shoulders\"],\n",
        "    \"leg extension\": [\"quadriceps\"],\n",
        "    \"leg raise\": [\"back\", \"core\", \"hamstrings\"],\n",
        "    \"plank\": [\"core\"],\n",
        "    \"pull up\": [\"biceps\", \"back\", \"shoulders\"],\n",
        "    \"push up\": [\"triceps\", \"core\",\"chest\",\"shoulders\"],\n",
        "    \"romanian deadlift\": [\"hamstrings\", \"quadriceps\"],\n",
        "    \"russian twist\": [\"core\"],\n",
        "    \"shoulder press\": [\"shoulders\", \"triceps\",\"chest\"],\n",
        "    \"squat\": [\"quadriceps\", \"hamstrings\"],\n",
        "    \"t bar row\": [\"back\"],\n",
        "    \"tricep dip\": [\"triceps\", \"shoulders\",\"chest\"],\n",
        "    \"tricep pushdown\": [\"triceps\"],\n",
        "\n",
        "}"
      ],
      "metadata": {
        "id": "EpNQCB10JUGL"
      },
      "execution_count": null,
      "outputs": []
    },
    {
      "cell_type": "code",
      "source": [
        "muscle_group_frequency = {\n",
        "    \"biceps\": 0,\n",
        "    \"forearms\": 0,\n",
        "    \"chest\": 0,\n",
        "    \"triceps\": 0,\n",
        "    \"shoulders\": 0,\n",
        "    \"core\": 0,\n",
        "    \"back\": 0,\n",
        "    \"hamstrings\": 0,\n",
        "    \"quadriceps\": 0\n",
        "}"
      ],
      "metadata": {
        "id": "TNLlUbBWJvrb"
      },
      "execution_count": null,
      "outputs": []
    },
    {
      "cell_type": "code",
      "source": [
        "for exercise, (num_sets, num_reps) in num_sets_reps.items():\n",
        "    muscle_groups = exercise_muscle_groups.get(exercise, [])\n",
        "    for muscle_group in muscle_groups:\n",
        "        muscle_group_frequency[muscle_group] += (num_sets * num_reps)"
      ],
      "metadata": {
        "id": "4vTq-2CUJyfX"
      },
      "execution_count": null,
      "outputs": []
    },
    {
      "cell_type": "code",
      "source": [
        "muscle_group_frequency"
      ],
      "metadata": {
        "colab": {
          "base_uri": "https://localhost:8080/"
        },
        "id": "UDBc1x-K9gfH",
        "outputId": "71b82f8e-c017-49d8-9b1f-dba960ef8c77"
      },
      "execution_count": null,
      "outputs": [
        {
          "output_type": "execute_result",
          "data": {
            "text/plain": [
              "{'biceps': 30,\n",
              " 'forearms': 30,\n",
              " 'chest': 30,\n",
              " 'triceps': 30,\n",
              " 'shoulders': 60,\n",
              " 'core': 30,\n",
              " 'back': 60,\n",
              " 'hamstrings': 30,\n",
              " 'quadriceps': 0}"
            ]
          },
          "metadata": {},
          "execution_count": 16
        }
      ]
    },
    {
      "cell_type": "code",
      "source": [
        "total_muscle_frequency = sum(muscle_group_frequency.values())\n",
        "\n",
        "\n",
        "most_worked_muscles = [muscle for muscle in muscle_group_frequency if muscle_group_frequency[muscle] == max(muscle_group_frequency.values())]\n",
        "least_worked_muscles = [muscle for muscle in muscle_group_frequency if muscle_group_frequency[muscle] == min(muscle_group_frequency.values())]\n",
        "\n",
        "underworked_muscles = [muscle for muscle in muscle_group_frequency if muscle != most_worked_muscles[0]]\n",
        "\n",
        "underworked_exercise_recommendations = set()\n",
        "for muscle in underworked_muscles:\n",
        "    for exercise, muscle_groups in exercise_muscle_groups.items():\n",
        "        if muscle in muscle_groups and exercise not in num_sets_reps:\n",
        "            underworked_exercise_recommendations.add(exercise)\n",
        "\n",
        "print(\"Most Worked Muscle Groups:\", most_worked_muscles)\n",
        "print(\"Least Worked Muscle Groups:\", least_worked_muscles)\n",
        "print(\"Underworked Muscle Groups:\", underworked_muscles)\n",
        "print(\"Exercise Recommendations for Underworked Muscle Groups:\", list(underworked_exercise_recommendations))"
      ],
      "metadata": {
        "colab": {
          "base_uri": "https://localhost:8080/"
        },
        "id": "8J_oqiInhObL",
        "outputId": "41825588-da8c-477c-f70f-1dccd98e8445"
      },
      "execution_count": null,
      "outputs": [
        {
          "output_type": "stream",
          "name": "stdout",
          "text": [
            "Most Worked Muscle Groups: ['shoulders', 'back']\n",
            "Least Worked Muscle Groups: ['quadriceps']\n",
            "Underworked Muscle Groups: ['biceps', 'forearms', 'chest', 'triceps', 'core', 'back', 'hamstrings', 'quadriceps']\n",
            "Exercise Recommendations for Underworked Muscle Groups: ['push up', 'leg extension', 'hammer curl', 'squat', 'bench press', 'decline bench press', 'hip thrust', 'barbell biceps curl', 'russian twist', 'lateral raise', 'lat pulldown', 'shoulder press', 'romanian deadlift', 'leg raise', 't bar row', 'chest fly machine', 'incline bench press', 'plank', 'tricep pushdown']\n"
          ]
        }
      ]
    },
    {
      "cell_type": "code",
      "source": [
        "import random\n",
        "underworked_muscles = [muscle for muscle in underworked_muscles if muscle not in most_worked_muscles]\n",
        "\n",
        "underworked_exercise_recommendations = set()\n",
        "for muscle in underworked_muscles:\n",
        "    eligible_exercises = [exercise for exercise, muscle_groups in exercise_muscle_groups.items() if muscle in muscle_groups and exercise not in num_sets_reps]\n",
        "    if eligible_exercises:\n",
        "        random_recommendations = random.sample(eligible_exercises, min(3, len(eligible_exercises)))\n",
        "        underworked_exercise_recommendations.update(random_recommendations)\n",
        "for exercise in num_sets_reps:\n",
        "    if exercise in underworked_exercise_recommendations:\n",
        "        underworked_exercise_recommendations.remove(exercise)\n",
        "print(\"Most Worked Muscle Groups:\", most_worked_muscles)\n",
        "print(\"Muscle Groups You Should Target More:\", underworked_muscles)\n",
        "print()\n",
        "print(\"Exercise Recommendations:\")\n",
        "for exercise in random.sample(underworked_exercise_recommendations, 3):\n",
        "    print()\n",
        "    print(f\"{exercise}: Muscle Groups - {', '.join(exercise_muscle_groups[exercise])}\")\n",
        "    print()\n",
        "\n"
      ],
      "metadata": {
        "colab": {
          "base_uri": "https://localhost:8080/"
        },
        "id": "IdfSlj_j90vX",
        "outputId": "177a8f32-f1d6-4df7-ebc3-2bd5bd5c9ca1"
      },
      "execution_count": null,
      "outputs": [
        {
          "output_type": "stream",
          "name": "stdout",
          "text": [
            "Most Worked Muscle Groups: ['shoulders', 'back']\n",
            "Muscle Groups You Should Target More: ['biceps', 'forearms', 'chest', 'triceps', 'core', 'hamstrings', 'quadriceps']\n",
            "\n",
            "Exercise Recommendations:\n",
            "\n",
            "shoulder press: Muscle Groups - shoulders, triceps, chest\n",
            "\n",
            "\n",
            "push up: Muscle Groups - triceps, core, chest, shoulders\n",
            "\n",
            "\n",
            "hip thrust: Muscle Groups - hamstrings\n",
            "\n"
          ]
        },
        {
          "output_type": "stream",
          "name": "stderr",
          "text": [
            "<ipython-input-18-99fe595d6390>:20: DeprecationWarning: Sampling from a set deprecated\n",
            "since Python 3.9 and will be removed in a subsequent version.\n",
            "  for exercise in random.sample(underworked_exercise_recommendations, 3):\n"
          ]
        }
      ]
    },
    {
      "cell_type": "markdown",
      "source": [],
      "metadata": {
        "id": "niFqyMk-Z6rr"
      }
    }
  ],
  "metadata": {
    "colab": {
      "provenance": [],
      "gpuType": "T4",
      "machine_shape": "hm",
      "include_colab_link": true
    },
    "kernelspec": {
      "display_name": "Python 3",
      "name": "python3"
    },
    "language_info": {
      "name": "python"
    },
    "accelerator": "GPU"
  },
  "nbformat": 4,
  "nbformat_minor": 0
}